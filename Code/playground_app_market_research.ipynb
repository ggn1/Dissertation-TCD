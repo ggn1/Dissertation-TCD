{
 "cells": [
  {
   "attachments": {},
   "cell_type": "markdown",
   "metadata": {},
   "source": [
    "# App Market Research"
   ]
  },
  {
   "attachments": {},
   "cell_type": "markdown",
   "metadata": {},
   "source": [
    "In this project, publicly available data about dog play-date apps from Google Play Store is scrapped and analyzed to access the potential of such doggy play-date apps in the app market. Possible insights from the analysis might include:\n",
    "* What do people love most and least about such apps?\n",
    "* How well do such apps generally tend to do financially?\n",
    "* What regions of the world are such apps currently found in?"
   ]
  },
  {
   "cell_type": "code",
   "execution_count": 26,
   "metadata": {},
   "outputs": [
    {
     "name": "stdout",
     "output_type": "stream",
     "text": [
      "The autoreload extension is already loaded. To reload it, use:\n",
      "  %reload_ext autoreload\n"
     ]
    }
   ],
   "source": [
    "# Imports.\n",
    "import datetime\n",
    "import pycountry\n",
    "from google_play_scraper import app\n",
    "from utility_functions import get_now\n",
    "from google_play_scraper import search\n",
    "from utility_functions import inspect_function\n",
    "\n",
    "%load_ext autoreload\n",
    "%autoreload 2"
   ]
  },
  {
   "cell_type": "code",
   "execution_count": 30,
   "metadata": {},
   "outputs": [],
   "source": [
    "# 20 Countries based on dogs per capita.\n",
    "# References: \n",
    "# 1. https://www.mappr.co/thematic-maps/world-pet-ownership/\n",
    "# 2. https://www.petsecure.com.au/pet-care/a-guide-to-worldwide-pet-ownership/\n",
    "\n",
    "country_names = [ # ISO standard names.\n",
    "    'United States', 'Brazil', 'China', 'Russian Federation', 'Japan', \n",
    "    'Philippines', 'India', 'Argentina', 'United Kingdom', 'France', \n",
    "    'Poland', 'Spain', 'Romania', 'Australia', 'Hungary', \n",
    "    'Czechia', 'South Africa', 'Germany', 'Ethiopia',  'Canada'\n",
    "]\n",
    "\n",
    "languages = {'english': 'en'} # English apps only."
   ]
  },
  {
   "attachments": {},
   "cell_type": "markdown",
   "metadata": {},
   "source": [
    "## 1. Data Acquisition"
   ]
  },
  {
   "cell_type": "code",
   "execution_count": 39,
   "metadata": {},
   "outputs": [],
   "source": [
    "data = {} # Object with app IDs as key and an object containing all data regarding each app as its value."
   ]
  },
  {
   "cell_type": "code",
   "execution_count": 42,
   "metadata": {},
   "outputs": [],
   "source": [
    "search_str = \"dog play date\" # Search string => kind of app we're interested in.\n",
    "n_apps = 3 # No. of apps per country (value range = [1, 30]).\n",
    "\n",
    "# For each of our shortlisted countries ...\n",
    "country = country_names[0] # Currently 'United States'. Do manually for all shortlisted countries.\n",
    "# Try to get information about some dog play-date apps.\n",
    "country_code = pycountry.countries.get(name=country).alpha_2.lower()\n",
    "language_code = languages['english']\n",
    "app_ids = [a['appId'] for a in search(search_str, lang=language_code, country=country_code, n_hits=n_apps)]\n",
    "# For each app ...\n",
    "for app_id in app_ids:\n",
    "    # Get details regarding the app.\n",
    "    app_details = app(app_id, lang=language_code, country=country_code)\n",
    "    # Add potentially useful new data fields.\n",
    "    app_details['searchMoment'] = str(datetime.datetime.now())\n",
    "    app_details['countryCode'] = country_code\n",
    "    app_details['languageCode'] = language_code\n",
    "    # Remove less useful data fields.\n",
    "    del app_details['video']\n",
    "    del app_details['videoImage']\n",
    "    del app_details['descriptionHTML']\n",
    "    # Add app to data dictionary.\n",
    "    data[app_id] = app_details"
   ]
  },
  {
   "attachments": {},
   "cell_type": "markdown",
   "metadata": {},
   "source": [
    "Each app details request returns data with following fields.\n",
    "* `title`: Brief title.\n",
    "* `description`: Description in plain text.\n",
    "* `descriptionHTML`: Description in HTML format.\n",
    "* `summary`: Summary of what the app is about.\n",
    "* `installs`: No. of installs display string.\n",
    "* `minInstalls`: At least these many installs.\n",
    "* `realInstalls`: Exactly these many installs.\n",
    "* `score`: Average user rating out of 5. ???\n",
    "* `ratings`: No. of ratings.\n",
    "* `reviews`: No. of reviews.\n",
    "* `histogram`: List corresponding to no. of 1, 2, 3, 4 and 5 ratings respectively.\n",
    "* `price`: Price of install.\n",
    "* `free`: Whether or not this app is free to install.\n",
    "* `currency`: Currency that the price is expressed in.\n",
    "* `sale`: Whether or not this app is for sale. ???\n",
    "* `saleTime`: ???\n",
    "* `originalPrice`: ???\n",
    "* `saleText`: ???\n",
    "* `offersIAP`: Whether or not this app offers in app purchases.\n",
    "* `inAppProductPrice`: String indicating prizes of purchasable items in the app.\n",
    "* `developer`: Developer of the app.\n",
    "* `developerId`: Identification string corresponding to app developer.\n",
    "* `developerEmail`: Email corresponding to app developer.\n",
    "* `developerWebsite`: Website corresponding to app developer.\n",
    "* `developerAddress`: Address corresponding to app developer.\n",
    "* `privacyPolicy`: Link to the privacy policy of this app.\n",
    "* `genre`: A string trying to encompass the main category that this app may be put into.\n",
    "* `genreId`: Identifier string trying to encompass the main category that this app may be put into.\n",
    "* `categories`: List of {'name', 'id'} objects corresponding to categories that this app may be put into.\n",
    "* `icon`: Link to app icon image.\n",
    "* `headerImage`: Link to app header image that shows up as part of a search result.\n",
    "* `screenshots`: List of links to screenshots of the app.\n",
    "* `video`: A video associated with this app.\n",
    "* `videoImage`: Link to a thumbnail image of above video.\n",
    "* `contentRating`: Category of people allowed to rate this app. ???.\n",
    "* `contentRatingDescription`: Genre under which people date this app. ???.\n",
    "* `adSupported`: Whether or not this app supports ads.\n",
    "* `containsAds`: Whether or not this app contains ads.\n",
    "* `released`: String corresponding to date of release of this app.\n",
    "* `updated`: No. of times this app was updated. ???\n",
    "* `version`: Current version string.\n",
    "* `comments`: List of some comments.\n",
    "* `appId`: App identifier string.\n",
    "* `url`: Link to this app on Google Play Store."
   ]
  },
  {
   "attachments": {},
   "cell_type": "markdown",
   "metadata": {},
   "source": [
    "Following potentially useful data fields were added to details of each app.\n",
    "* `searchMoment`: Date time string marking date-time at which app details were fetched.\n",
    "* `countryCode`: ISO code of source country.\n",
    "* `languageCode`: Code corresponding to primary language of the app."
   ]
  },
  {
   "attachments": {},
   "cell_type": "markdown",
   "metadata": {},
   "source": [
    "Following less useful data fields were removed from details of each app.\n",
    "* `video`: Not looking to work with videos.\n",
    "* `videoImage`: Not looking to work with videos.\n",
    "* `descriptionHTML`: Redundant since another field with same description as plain text already exists."
   ]
  },
  {
   "cell_type": "code",
   "execution_count": 43,
   "metadata": {},
   "outputs": [
    {
     "data": {
      "text/plain": [
       "6"
      ]
     },
     "execution_count": 43,
     "metadata": {},
     "output_type": "execute_result"
    }
   ],
   "source": [
    "len(data)"
   ]
  },
  {
   "attachments": {},
   "cell_type": "markdown",
   "metadata": {},
   "source": [
    "## 2. Data Storage\n",
    "Storage shall be managed in the cloud using following services offered by `AWS`.\n",
    "1. `DynamoDB`: Transactional NoSQL database.\n",
    "2. `RedShift`: Analytical database. \n",
    "3. `AWS Data Pipeline`: For data transfer between DynamoDB and RedShift."
   ]
  },
  {
   "attachments": {},
   "cell_type": "markdown",
   "metadata": {},
   "source": []
  }
 ],
 "metadata": {
  "kernelspec": {
   "display_name": "dissertation-tcd",
   "language": "python",
   "name": "python3"
  },
  "language_info": {
   "codemirror_mode": {
    "name": "ipython",
    "version": 3
   },
   "file_extension": ".py",
   "mimetype": "text/x-python",
   "name": "python",
   "nbconvert_exporter": "python",
   "pygments_lexer": "ipython3",
   "version": "3.11.3"
  },
  "orig_nbformat": 4
 },
 "nbformat": 4,
 "nbformat_minor": 2
}
