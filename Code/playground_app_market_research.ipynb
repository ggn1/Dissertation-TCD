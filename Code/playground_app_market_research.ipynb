{
 "cells": [
  {
   "attachments": {},
   "cell_type": "markdown",
   "metadata": {},
   "source": [
    "# App Market Research"
   ]
  },
  {
   "attachments": {},
   "cell_type": "markdown",
   "metadata": {},
   "source": [
    "In this project, publicly available data about dog play-date apps from Google Play Store is scrapped and analyzed to access the potential of such doggy play-date apps in the app market. Possible insights from the analysis might include:\n",
    "* What do people love most and least about such apps?\n",
    "* How well do such apps generally tend to do financially?\n",
    "* What regions of the world are such apps currently found in?"
   ]
  },
  {
   "cell_type": "code",
   "execution_count": 86,
   "metadata": {},
   "outputs": [
    {
     "name": "stdout",
     "output_type": "stream",
     "text": [
      "The autoreload extension is already loaded. To reload it, use:\n",
      "  %reload_ext autoreload\n"
     ]
    }
   ],
   "source": [
    "# Imports.\n",
    "import pycountry\n",
    "from google_play_scraper import search\n",
    "from utility_functions import inspect_function\n",
    "\n",
    "%load_ext autoreload\n",
    "%autoreload 2"
   ]
  },
  {
   "cell_type": "code",
   "execution_count": 87,
   "metadata": {},
   "outputs": [],
   "source": [
    "# 20 Countries based on dogs per capita.\n",
    "# References: \n",
    "# 1. https://www.mappr.co/thematic-maps/world-pet-ownership/\n",
    "# 2. https://www.petsecure.com.au/pet-care/a-guide-to-worldwide-pet-ownership/\n",
    "\n",
    "country_names = [ # ISO standard names.\n",
    "    'United States', 'Brazil', 'China', 'Russian Federation', 'Japan', \n",
    "    'Philippines', 'India', 'Argentina', 'United Kingdom', 'France', \n",
    "    'Poland', 'Spain', 'Romania', 'Australia', 'Hungary', \n",
    "    'Czechia', 'South Africa', 'Germany', 'Ethiopia',  'Canada'\n",
    "] "
   ]
  },
  {
   "attachments": {},
   "cell_type": "markdown",
   "metadata": {},
   "source": [
    "## 1. Data Acquisition"
   ]
  },
  {
   "cell_type": "code",
   "execution_count": 104,
   "metadata": {},
   "outputs": [
    {
     "name": "stdout",
     "output_type": "stream",
     "text": [
      "\n",
      "FUNCTION search(...):\n",
      "1. query: str\n",
      "2. n_hits: int = 30\n",
      "3. lang: str = 'en'\n",
      "4. country: str = 'us'\n"
     ]
    }
   ],
   "source": [
    "inspect_function(search)"
   ]
  },
  {
   "cell_type": "code",
   "execution_count": 111,
   "metadata": {},
   "outputs": [],
   "source": [
    "search_str = \"dog play date\" # Search string => kind of app we're interested in.\n",
    "country_code = pycountry.countries.get(name=country_names[0]).alpha_2.lower()\n",
    "result = search(\n",
    "    search_str,\n",
    "    lang=\"en\",  # English (defaults to 'en').\n",
    "    country=country_code,  # (defaults to 'us').\n",
    "    n_hits=30  # defaults to 30 (= Google's maximum)\n",
    ")"
   ]
  },
  {
   "attachments": {},
   "cell_type": "markdown",
   "metadata": {},
   "source": [
    "The above result is comprised of a list of objects with the following fields.\n",
    "1. `appId`: Unique identifier.\n",
    "2. `icon`: Link to app icon image.\n",
    "3. `screenshots`: List of links to screenshots of the app.\n",
    "4. `title`: Brief title.\n",
    "5. `score`: Average rating out of 5. `!!!`\n",
    "6. `genre`: App type category.\n",
    "7. `price`: Cost of installation.\n",
    "8. `free`: Whether or not app is free.\n",
    "9. `currency`: Currency in which the price is expressed.\n",
    "10. `video`: A video associated with this app.\n",
    "11. `videoImage`: Link to a thumbnail image of above video.\n",
    "12. `description`: Description in plain text format.\n",
    "13. `descriptionHTML`: Description in HTML format.\n",
    "14. `developer`: Person/entity that has developed this app.\n",
    "15. `installs`: No. of installs."
   ]
  },
  {
   "cell_type": "code",
   "execution_count": 113,
   "metadata": {},
   "outputs": [
    {
     "data": {
      "text/plain": [
       "{'appId': 'com.colin.barkerchat',\n",
       " 'icon': 'https://play-lh.googleusercontent.com/XAM-J1LP6bakE_qM5mYoxYuNF86aWi1zIzjff2HKlRAaN2x4FrIZJVpgegv2cKHp-Ec',\n",
       " 'screenshots': ['https://play-lh.googleusercontent.com/d5bZ6Frv7I1pxMadPFJsbZ8TUJNkb22OB8eqFOXdxGIiJcwZw2TiiVvSBsA6q7HLmw',\n",
       "  'https://play-lh.googleusercontent.com/9G8DE0ezIBrf-8gkjASjP2AoUbFoSXwkouG6U2W0F8DVn-6Iq7jFPGS3AhQYps1z_NeD',\n",
       "  'https://play-lh.googleusercontent.com/DT6bJCwZEPnCYWCpfjazGM0E7DhoXcs2OORQ6-QBxJgSB80soLd5vgxda-JbfUc7L9g',\n",
       "  'https://play-lh.googleusercontent.com/pVVfLh3ygnk5htEElN32N00D8p54cHnC4lMY4zM7To78sxtET3RUW5v_m66lKzzfLg',\n",
       "  'https://play-lh.googleusercontent.com/hCcsgXTluMIEi_ZV4CMtOx9AC_SFl6GberXzLBG5MuvM_aoO5tEksejg5U0PsNn9vA',\n",
       "  'https://play-lh.googleusercontent.com/EuqwuNYw_rl1MvrOY3BaDNA44AnslrRu3b_imv0M9WJ2P9xgII48qIlhyN6fbrvOnZqL',\n",
       "  'https://play-lh.googleusercontent.com/7ikW5DDM3bqViGrdIITeaG2-y-QtoVmnUYEfpE8ZzSCspTzeLTdNfsWu0dqFA-x8GM__',\n",
       "  'https://play-lh.googleusercontent.com/fbra0vjhQpZxxWqxN07nIi07d9GCj5Akw7OzNKG3i4xlUHnmC3oCmJsNfZOERLh0cck',\n",
       "  'https://play-lh.googleusercontent.com/32nMrW2sPdU5INQIicTlZapgUOjfV16xMrPLyogrlHZLzOOREOpJnNAzqPXN7vpFKe0'],\n",
       " 'title': 'Pawmates: The Dog Meetup App',\n",
       " 'score': 3.5454545,\n",
       " 'genre': 'Lifestyle',\n",
       " 'price': 0,\n",
       " 'free': True,\n",
       " 'currency': 'USD',\n",
       " 'video': None,\n",
       " 'videoImage': None,\n",
       " 'description': \"Featured on 50+ news and media channels including BlogTO, Narcity, Newsweek, CTV, City News, Global News, Curiocity, and many more\\r\\n\\r\\nDownloaded more than 50,000 times in 20+ countries\\r\\n\\r\\nPawmates is your friendly neighbourhood dog meetup app! Match, chat, and meet with dogs and their owners near you!\\r\\n\\r\\nFind your pack! Looking to meet with like minded people who love their pets like you do? Look no further! Our matching works just like your favourite meetup apps. Swipe right on pups you like, left on those you don’t. Once you’ve matched with them, you can chat freely as much as you want, for free. We do NOT believe in pay to message (who wants to do that?)\\r\\n\\r\\nOur features include:\\r\\n\\r\\nCREATE YOUR CUSTOM PROFILE\\r\\nPost photos of your pup, add details about them including their personality, age, breed, and more!\\r\\n\\r\\nMATCH WITH PUPS\\r\\nUnlimited free browsing of the cutest dogs in your area! Change your settings to specify the types of dogs and people you want to meet! Find your gang!\\r\\n\\r\\nCHAT AND MEET\\r\\nPawmates matches show up on your custom wheel! Swipe through your match wheel and start chatting with people and their pups!\\r\\nConnect with pups near you by organizing meet ups!\\r\\n\\r\\nOUR PET BUSINESS MAP\\r\\n\\r\\nLooking for the top rated vets, pet food stores, walkers, or anything else related to your pup like the best park in your area? Hop on over to our Pawmates Map and check out every animal business in your area!\\r\\n\\r\\nPawmates is here not only to help you meet your new dogpack, but to help with every other need of pet owners and we're growing daily! We want to build the biggest community of dog lovers around the world. So come join our family today!\\r\\n\\r\\nCONTACT US!\\r\\nHave questions, problems, or feedback? Feel free to contact us @ Pawmatesapp@gmail.com Or visit us at our Instagram and Facebook pages to win amazing prizes and giveaways!\\r\\n\\r\\nYOUR PRIVACY IS IMPORTANT TO US\\r\\nPlease read the terms and policies of Pawmates, as well as the privacy policy carefully. All data is handled under the terms and policies of Pawmates privacy policy. More details can be found here: https://pawmatesapp.com/terms-of-service/\",\n",
       " 'descriptionHTML': 'Featured on 50+ news and media channels including BlogTO, Narcity, Newsweek, CTV, City News, Global News, Curiocity, and many more<br><br>Downloaded more than 50,000 times in 20+ countries<br><br>Pawmates is your friendly neighbourhood dog meetup app! Match, chat, and meet with dogs and their owners near you!<br><br>Find your pack! Looking to meet with like minded people who love their pets like you do? Look no further! Our matching works just like your favourite meetup apps. Swipe right on pups you like, left on those you don’t. Once you’ve matched with them, you can chat freely as much as you want, for free. We do NOT believe in pay to message (who wants to do that?)<br><br>Our features include:<br><br>CREATE YOUR CUSTOM PROFILE<br>Post photos of your pup, add details about them including their personality, age, breed, and more!<br><br>MATCH WITH PUPS<br>Unlimited free browsing of the cutest dogs in your area! Change your settings to specify the types of dogs and people you want to meet! Find your gang!<br><br>CHAT AND MEET<br>Pawmates matches show up on your custom wheel! Swipe through your match wheel and start chatting with people and their pups!<br>Connect with pups near you by organizing meet ups!<br><br>OUR PET BUSINESS MAP<br><br>Looking for the top rated vets, pet food stores, walkers, or anything else related to your pup like the best park in your area? Hop on over to our Pawmates Map and check out every animal business in your area!<br><br>Pawmates is here not only to help you meet your new dogpack, but to help with every other need of pet owners and we&#39;re growing daily! We want to build the biggest community of dog lovers around the world. So come join our family today!<br><br>CONTACT US!<br>Have questions, problems, or feedback? Feel free to contact us @ Pawmatesapp@gmail.com Or visit us at our Instagram and Facebook pages to win amazing prizes and giveaways!<br><br>YOUR PRIVACY IS IMPORTANT TO US<br>Please read the terms and policies of Pawmates, as well as the privacy policy carefully. All data is handled under the terms and policies of Pawmates privacy policy. More details can be found here: https://pawmatesapp.com/terms-of-service/',\n",
       " 'developer': 'Slopestyle Studios',\n",
       " 'installs': '5,000+'}"
      ]
     },
     "execution_count": 113,
     "metadata": {},
     "output_type": "execute_result"
    }
   ],
   "source": [
    "result[0]"
   ]
  }
 ],
 "metadata": {
  "kernelspec": {
   "display_name": "dissertation-tcd",
   "language": "python",
   "name": "python3"
  },
  "language_info": {
   "codemirror_mode": {
    "name": "ipython",
    "version": 3
   },
   "file_extension": ".py",
   "mimetype": "text/x-python",
   "name": "python",
   "nbconvert_exporter": "python",
   "pygments_lexer": "ipython3",
   "version": "3.11.3"
  },
  "orig_nbformat": 4
 },
 "nbformat": 4,
 "nbformat_minor": 2
}
