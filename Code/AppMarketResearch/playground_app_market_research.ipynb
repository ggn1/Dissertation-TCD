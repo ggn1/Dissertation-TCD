{
 "cells": [
  {
   "attachments": {},
   "cell_type": "markdown",
   "metadata": {},
   "source": [
    "# App Market Research"
   ]
  },
  {
   "attachments": {},
   "cell_type": "markdown",
   "metadata": {},
   "source": [
    "In this project, publicly available data about dog play-date apps from Google Play Store is scrapped and analyzed to access the potential of such doggy play-date apps in the app market. Possible insights from the analysis might include:\n",
    "* What do people love most and least about such apps?\n",
    "* How well do such apps generally tend to do financially?\n",
    "* What regions of the world are such apps currently found in?"
   ]
  },
  {
   "cell_type": "code",
   "execution_count": 96,
   "metadata": {},
   "outputs": [
    {
     "name": "stdout",
     "output_type": "stream",
     "text": [
      "The autoreload extension is already loaded. To reload it, use:\n",
      "  %reload_ext autoreload\n"
     ]
    }
   ],
   "source": [
    "# Imports.\n",
    "import json\n",
    "import re\n",
    "from glob import glob\n",
    "import datetime\n",
    "import pycountry\n",
    "import pandas as pd\n",
    "import numpy as np\n",
    "from tqdm import tqdm\n",
    "from google_play_scraper import app\n",
    "from utility_functions import get_now\n",
    "from google_play_scraper import search\n",
    "from utility_functions import inspect_function\n",
    "\n",
    "%load_ext autoreload\n",
    "%autoreload 2"
   ]
  },
  {
   "cell_type": "code",
   "execution_count": 2,
   "metadata": {},
   "outputs": [],
   "source": [
    "# 20 Countries based on dogs per capita.\n",
    "# References: \n",
    "# 1. https://www.mappr.co/thematic-maps/world-pet-ownership/\n",
    "# 2. https://www.petsecure.com.au/pet-care/a-guide-to-worldwide-pet-ownership/\n",
    "\n",
    "country_names = [ # ISO standard names.\n",
    "    'United States', 'Brazil', 'China', 'Russian Federation', 'Japan', \n",
    "    'Philippines', 'India', 'Argentina', 'United Kingdom', 'France', \n",
    "    'Poland', 'Spain', 'Romania', 'Australia', 'Hungary', \n",
    "    'Czechia', 'South Africa', 'Germany', 'Ethiopia',  'Canada'\n",
    "]\n",
    "\n",
    "languages = {'english': 'en'} # English apps only."
   ]
  },
  {
   "attachments": {},
   "cell_type": "markdown",
   "metadata": {},
   "source": [
    "## 1. Data Acquisition"
   ]
  },
  {
   "cell_type": "code",
   "execution_count": 3,
   "metadata": {},
   "outputs": [],
   "source": [
    "search_str = \"dog play date\" # Search string => kind of app we're interested in.\n",
    "n_apps = 30 # No. of apps per country (value range = [1, 30])."
   ]
  },
  {
   "cell_type": "code",
   "execution_count": 125,
   "metadata": {},
   "outputs": [
    {
     "ename": "NameError",
     "evalue": "name 'country_names' is not defined",
     "output_type": "error",
     "traceback": [
      "\u001b[1;31m---------------------------------------------------------------------------\u001b[0m",
      "\u001b[1;31mNameError\u001b[0m                                 Traceback (most recent call last)",
      "Cell \u001b[1;32mIn[125], line 3\u001b[0m\n\u001b[0;32m      1\u001b[0m \u001b[39m# For each of our shortlisted countries ...\u001b[39;00m\n\u001b[0;32m      2\u001b[0m start_country \u001b[39m=\u001b[39m \u001b[39m6\u001b[39m\n\u001b[1;32m----> 3\u001b[0m \u001b[39mfor\u001b[39;00m i \u001b[39min\u001b[39;00m \u001b[39mrange\u001b[39m(start_country, \u001b[39mlen\u001b[39m(country_names)):\n\u001b[0;32m      4\u001b[0m     data \u001b[39m=\u001b[39m []\n\u001b[0;32m      5\u001b[0m     country \u001b[39m=\u001b[39m country_names[i]\n",
      "\u001b[1;31mNameError\u001b[0m: name 'country_names' is not defined"
     ]
    }
   ],
   "source": [
    "# For each of our shortlisted countries ...\n",
    "start_country = 6\n",
    "for i in range(start_country, len(country_names)):\n",
    "    data = []\n",
    "    country = country_names[i]\n",
    "    print(f\"COUNTRY: {country}\")\n",
    "    # Try to get information about some dog play-date apps.\n",
    "    country_code = pycountry.countries.get(name=country).alpha_2.lower()\n",
    "    language_code = languages['english']\n",
    "    app_ids = [a['appId'] for a in search(search_str, lang=language_code, country=country_code, n_hits=n_apps)]\n",
    "    # For each app ...\n",
    "    for j in tqdm(range(len(app_ids))):\n",
    "        app_id = app_ids[j]\n",
    "        # Get details regarding the app.\n",
    "        app_details = app(app_id, lang=language_code, country=country_code)\n",
    "        # Add potentially useful new data fields.\n",
    "        app_details['searchMoment'] = str(datetime.datetime.now())\n",
    "        app_details['countryCode'] = country_code\n",
    "        app_details['languageCode'] = language_code\n",
    "        # Remove less useful data fields.\n",
    "        del app_details['icon']\n",
    "        del app_details['headerImage']\n",
    "        del app_details['screenshots']\n",
    "        del app_details['video']\n",
    "        del app_details['videoImage']\n",
    "        del app_details['descriptionHTML']\n",
    "        # Add app to data.\n",
    "        data.append(app_details)\n",
    "    df = pd.DataFrame(data)\n",
    "    df.to_csv(f\"./Data/{'_'.join(country.lower().split())}.csv\", index=False)"
   ]
  },
  {
   "cell_type": "code",
   "execution_count": 3,
   "metadata": {},
   "outputs": [],
   "source": [
    "country_data_files = glob(\"./Data/*.csv\")\n",
    "df = pd.concat([pd.read_csv(f) for f in country_data_files])"
   ]
  },
  {
   "cell_type": "code",
   "execution_count": 131,
   "metadata": {},
   "outputs": [],
   "source": [
    "df.to_csv(\"./Data/data20countries.csv\", index=False)"
   ]
  },
  {
   "cell_type": "markdown",
   "metadata": {},
   "source": [
    "## 2. Data Processing"
   ]
  },
  {
   "cell_type": "code",
   "execution_count": 151,
   "metadata": {},
   "outputs": [],
   "source": [
    "df = pd.read_csv(\"./Data/data20countries.csv\")"
   ]
  },
  {
   "cell_type": "code",
   "execution_count": 152,
   "metadata": {},
   "outputs": [],
   "source": [
    "df_histogram = pd.DataFrame(list(df['histogram'].apply(\n",
    "    lambda r: [int(re.sub(r'[\\[\\]]', r'', s.strip())) for s in r.split(',')]\n",
    ")), columns=['ratings1', 'ratings2', 'ratings3', 'ratings4', 'ratings5'])\n",
    "df = pd.concat([df.drop(['histogram', 'ratings'], axis=1), df_histogram], axis=1)"
   ]
  },
  {
   "cell_type": "code",
   "execution_count": 153,
   "metadata": {},
   "outputs": [],
   "source": [
    "df['categories'] = df['categories'].apply(\n",
    "    lambda r: ' '.join(set([c['name'].lower().replace(' ', '-') for c in eval(r)]))\n",
    ")"
   ]
  },
  {
   "cell_type": "code",
   "execution_count": 154,
   "metadata": {},
   "outputs": [],
   "source": [
    "df['comments'] = df['comments'].apply(lambda r: ' '.join(eval(r)).lower())"
   ]
  },
  {
   "cell_type": "code",
   "execution_count": 155,
   "metadata": {},
   "outputs": [
    {
     "data": {
      "text/plain": [
       "Index(['title', 'description', 'summary', 'installs', 'minInstalls',\n",
       "       'realInstalls', 'score', 'reviews', 'price', 'free', 'currency', 'sale',\n",
       "       'saleTime', 'originalPrice', 'saleText', 'offersIAP',\n",
       "       'inAppProductPrice', 'developer', 'developerId', 'developerEmail',\n",
       "       'developerWebsite', 'developerAddress', 'privacyPolicy', 'genre',\n",
       "       'genreId', 'categories', 'contentRating', 'contentRatingDescription',\n",
       "       'adSupported', 'containsAds', 'released', 'updated', 'version',\n",
       "       'comments', 'appId', 'url', 'searchMoment', 'countryCode',\n",
       "       'languageCode', 'ratings1', 'ratings2', 'ratings3', 'ratings4',\n",
       "       'ratings5'],\n",
       "      dtype='object')"
      ]
     },
     "execution_count": 155,
     "metadata": {},
     "output_type": "execute_result"
    }
   ],
   "source": [
    "df.columns"
   ]
  },
  {
   "cell_type": "code",
   "execution_count": 156,
   "metadata": {},
   "outputs": [],
   "source": [
    "df.to_csv(\"./Data/data20countries_processed.csv\", index=False)"
   ]
  },
  {
   "attachments": {},
   "cell_type": "markdown",
   "metadata": {},
   "source": [
    "Each app details request returns data with following fields.\n",
    "* `title`: Brief title.\n",
    "* `description`: Description in plain text.\n",
    "* `descriptionHTML`: Description in HTML format.\n",
    "* `summary`: Summary of what the app is about.\n",
    "* `installs`: No. of installs display string.\n",
    "* `minInstalls`: At least these many installs.\n",
    "* `realInstalls`: Exactly these many installs.\n",
    "* `score`: Average user rating out of 5. ???\n",
    "* `ratings`: No. of ratings.\n",
    "* `reviews`: No. of reviews.\n",
    "* `histogram`: List corresponding to no. of 1, 2, 3, 4 and 5 ratings respectively.\n",
    "* `price`: Price of install.\n",
    "* `free`: Whether or not this app is free to install.\n",
    "* `currency`: Currency that the price is expressed in.\n",
    "* `sale`: Whether or not this app is for sale. ???\n",
    "* `saleTime`: ???\n",
    "* `originalPrice`: ???\n",
    "* `saleText`: ???\n",
    "* `offersIAP`: Whether or not this app offers in app purchases.\n",
    "* `inAppProductPrice`: String indicating prizes of purchasable items in the app.\n",
    "* `developer`: Developer of the app.\n",
    "* `developerId`: Identification string corresponding to app developer.\n",
    "* `developerEmail`: Email corresponding to app developer.\n",
    "* `developerWebsite`: Website corresponding to app developer.\n",
    "* `developerAddress`: Address corresponding to app developer.\n",
    "* `privacyPolicy`: Link to the privacy policy of this app.\n",
    "* `genre`: A string trying to encompass the main category that this app may be put into.\n",
    "* `genreId`: Identifier string trying to encompass the main category that this app may be put into.\n",
    "* `categories`: List of {'name', 'id'} objects corresponding to categories that this app may be put into.\n",
    "* `icon`: Link to app icon image.\n",
    "* `headerImage`: Link to app header image that shows up as part of a search result.\n",
    "* `screenshots`: List of links to screenshots of the app.\n",
    "* `video`: A video associated with this app.\n",
    "* `videoImage`: Link to a thumbnail image of above video.\n",
    "* `contentRating`: Category of people allowed to rate this app. ???.\n",
    "* `contentRatingDescription`: Genre under which people date this app. ???.\n",
    "* `adSupported`: Whether or not this app supports ads.\n",
    "* `containsAds`: Whether or not this app contains ads.\n",
    "* `released`: String corresponding to date of release of this app.\n",
    "* `updated`: No. of times this app was updated. ???\n",
    "* `version`: Current version string.\n",
    "* `comments`: List of some comments.\n",
    "* `appId`: App identifier string.\n",
    "* `url`: Link to this app on Google Play Store."
   ]
  },
  {
   "attachments": {},
   "cell_type": "markdown",
   "metadata": {},
   "source": [
    "Following potentially useful data fields were added to details of each app.\n",
    "* `searchMoment`: Date time string marking date-time at which app details were fetched.\n",
    "* `countryCode`: ISO code of source country.\n",
    "* `languageCode`: Code corresponding to primary language of the app."
   ]
  },
  {
   "attachments": {},
   "cell_type": "markdown",
   "metadata": {},
   "source": [
    "Following less useful data fields were removed from details of each app.\n",
    "* `video`: Not looking to work with videos.\n",
    "* `videoImage`: Not looking to work with videos.\n",
    "* `descriptionHTML`: Redundant since another field with same description as plain text already exists."
   ]
  },
  {
   "attachments": {},
   "cell_type": "markdown",
   "metadata": {},
   "source": [
    "## 2. Data Storage\n",
    "Storage shall be managed in the cloud using following services offered by `AWS`.\n",
    "1. `DynamoDB`: Transactional NoSQL database.\n",
    "2. `RedShift`: Analytical database. \n",
    "3. `AWS Data Pipeline`: For data transfer between DynamoDB and RedShift."
   ]
  }
 ],
 "metadata": {
  "kernelspec": {
   "display_name": "dissertation-tcd",
   "language": "python",
   "name": "python3"
  },
  "language_info": {
   "codemirror_mode": {
    "name": "ipython",
    "version": 3
   },
   "file_extension": ".py",
   "mimetype": "text/x-python",
   "name": "python",
   "nbconvert_exporter": "python",
   "pygments_lexer": "ipython3",
   "version": "3.11.3"
  },
  "orig_nbformat": 4
 },
 "nbformat": 4,
 "nbformat_minor": 2
}
