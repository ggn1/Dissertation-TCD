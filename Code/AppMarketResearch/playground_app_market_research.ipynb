{
 "cells": [
  {
   "attachments": {},
   "cell_type": "markdown",
   "metadata": {},
   "source": [
    "# App Market Research"
   ]
  },
  {
   "attachments": {},
   "cell_type": "markdown",
   "metadata": {},
   "source": [
    "In this project, publicly available data about dog play-date apps from Google Play Store is scrapped and analyzed to access the potential of such doggy play-date apps in the app market. Possible insights from the analysis might include:\n",
    "* What do people love most and least about such apps?\n",
    "* How well do such apps generally tend to do financially?\n",
    "* What regions of the world are such apps currently found in?"
   ]
  },
  {
   "cell_type": "code",
   "execution_count": 42,
   "metadata": {},
   "outputs": [
    {
     "name": "stdout",
     "output_type": "stream",
     "text": [
      "The autoreload extension is already loaded. To reload it, use:\n",
      "  %reload_ext autoreload\n"
     ]
    }
   ],
   "source": [
    "# Imports.\n",
    "import json\n",
    "import re\n",
    "from glob import glob\n",
    "import datetime\n",
    "import pycountry\n",
    "import pandas as pd\n",
    "import numpy as np\n",
    "from tqdm import tqdm\n",
    "from google_play_scraper import app\n",
    "from utility_functions import get_now\n",
    "from google_play_scraper import search\n",
    "from utility_functions import inspect_function\n",
    "\n",
    "%load_ext autoreload\n",
    "%autoreload 2"
   ]
  },
  {
   "cell_type": "code",
   "execution_count": 48,
   "metadata": {},
   "outputs": [],
   "source": [
    "# Countries based on dogs per capita.\n",
    "# References: \n",
    "# 1. https://www.mappr.co/thematic-maps/world-pet-ownership/\n",
    "# 2. https://www.petsecure.com.au/pet-care/a-guide-to-worldwide-pet-ownership/\n",
    "\n",
    "country_names = [ # ISO standard names.\n",
    "    'United States', 'Brazil', 'China', 'Russian Federation', 'Japan', \n",
    "    'Philippines', 'India', 'Argentina', 'United Kingdom', 'France', \n",
    "    'Poland', 'Spain', 'Romania', 'Australia', 'Hungary',\n",
    "    'Czechia', 'South Africa', 'Germany', 'Ethiopia',  'Canada'\n",
    "]\n",
    "\n",
    "languages = {'english': 'en'} # English apps only."
   ]
  },
  {
   "attachments": {},
   "cell_type": "markdown",
   "metadata": {},
   "source": [
    "## 1. Data Acquisition"
   ]
  },
  {
   "cell_type": "code",
   "execution_count": 49,
   "metadata": {},
   "outputs": [],
   "source": [
    "search_str = \"dog dating\" # Search string => kind of app we're interested in.\n",
    "n_apps = 30 # No. of apps per country (value range = [1, 30])."
   ]
  },
  {
   "cell_type": "code",
   "execution_count": 50,
   "metadata": {},
   "outputs": [
    {
     "name": "stdout",
     "output_type": "stream",
     "text": [
      "COUNTRY: United States\n"
     ]
    },
    {
     "name": "stderr",
     "output_type": "stream",
     "text": [
      "100%|██████████| 30/30 [00:55<00:00,  1.85s/it]\n"
     ]
    },
    {
     "name": "stdout",
     "output_type": "stream",
     "text": [
      "COUNTRY: Brazil\n"
     ]
    },
    {
     "name": "stderr",
     "output_type": "stream",
     "text": [
      "  3%|▎         | 1/30 [00:19<09:20, 19.32s/it]"
     ]
    },
    {
     "name": "stdout",
     "output_type": "stream",
     "text": [
      "app 0: Remote end closed connection without response\n"
     ]
    },
    {
     "name": "stderr",
     "output_type": "stream",
     "text": [
      " 63%|██████▎   | 19/30 [01:00<01:45,  9.58s/it]"
     ]
    },
    {
     "name": "stdout",
     "output_type": "stream",
     "text": [
      "app 18: App not found. Status code 504 returned.\n"
     ]
    },
    {
     "name": "stderr",
     "output_type": "stream",
     "text": [
      "100%|██████████| 30/30 [01:07<00:00,  2.25s/it]\n"
     ]
    },
    {
     "name": "stdout",
     "output_type": "stream",
     "text": [
      "COUNTRY: China\n"
     ]
    },
    {
     "name": "stderr",
     "output_type": "stream",
     "text": [
      " 77%|███████▋  | 23/30 [01:53<01:22, 11.78s/it]"
     ]
    },
    {
     "name": "stdout",
     "output_type": "stream",
     "text": [
      "app 22: App not found. Status code 504 returned.\n"
     ]
    },
    {
     "name": "stderr",
     "output_type": "stream",
     "text": [
      "100%|██████████| 30/30 [01:58<00:00,  3.95s/it]\n"
     ]
    },
    {
     "name": "stdout",
     "output_type": "stream",
     "text": [
      "COUNTRY: Russian Federation\n"
     ]
    },
    {
     "name": "stderr",
     "output_type": "stream",
     "text": [
      "100%|██████████| 30/30 [00:49<00:00,  1.66s/it]\n"
     ]
    },
    {
     "name": "stdout",
     "output_type": "stream",
     "text": [
      "COUNTRY: Japan\n"
     ]
    },
    {
     "name": "stderr",
     "output_type": "stream",
     "text": [
      " 30%|███       | 9/30 [00:36<03:29,  9.97s/it]"
     ]
    },
    {
     "name": "stdout",
     "output_type": "stream",
     "text": [
      "app 8: App not found. Status code 504 returned.\n"
     ]
    },
    {
     "name": "stderr",
     "output_type": "stream",
     "text": [
      "100%|██████████| 30/30 [00:51<00:00,  1.70s/it]\n"
     ]
    },
    {
     "name": "stdout",
     "output_type": "stream",
     "text": [
      "COUNTRY: Philippines\n"
     ]
    },
    {
     "name": "stderr",
     "output_type": "stream",
     "text": [
      "100%|██████████| 30/30 [01:32<00:00,  3.10s/it]\n"
     ]
    },
    {
     "name": "stdout",
     "output_type": "stream",
     "text": [
      "COUNTRY: India\n"
     ]
    },
    {
     "name": "stderr",
     "output_type": "stream",
     "text": [
      " 70%|███████   | 21/30 [00:46<01:27,  9.71s/it]"
     ]
    },
    {
     "name": "stdout",
     "output_type": "stream",
     "text": [
      "app 20: App not found. Status code 504 returned.\n"
     ]
    },
    {
     "name": "stderr",
     "output_type": "stream",
     "text": [
      "100%|██████████| 30/30 [00:53<00:00,  1.78s/it]\n"
     ]
    },
    {
     "name": "stdout",
     "output_type": "stream",
     "text": [
      "COUNTRY: Argentina\n"
     ]
    },
    {
     "name": "stderr",
     "output_type": "stream",
     "text": [
      "100%|██████████| 30/30 [00:50<00:00,  1.68s/it]\n"
     ]
    },
    {
     "name": "stdout",
     "output_type": "stream",
     "text": [
      "COUNTRY: United Kingdom\n"
     ]
    },
    {
     "name": "stderr",
     "output_type": "stream",
     "text": [
      "  3%|▎         | 1/30 [00:30<14:39, 30.32s/it]"
     ]
    },
    {
     "name": "stdout",
     "output_type": "stream",
     "text": [
      "app 0: App not found. Status code 504 returned.\n"
     ]
    },
    {
     "name": "stderr",
     "output_type": "stream",
     "text": [
      "100%|██████████| 30/30 [00:51<00:00,  1.72s/it]\n"
     ]
    },
    {
     "name": "stdout",
     "output_type": "stream",
     "text": [
      "COUNTRY: France\n"
     ]
    },
    {
     "name": "stderr",
     "output_type": "stream",
     "text": [
      "100%|██████████| 30/30 [00:52<00:00,  1.76s/it]\n"
     ]
    },
    {
     "name": "stdout",
     "output_type": "stream",
     "text": [
      "COUNTRY: Poland\n"
     ]
    },
    {
     "name": "stderr",
     "output_type": "stream",
     "text": [
      "100%|██████████| 30/30 [00:53<00:00,  1.77s/it]\n"
     ]
    },
    {
     "name": "stdout",
     "output_type": "stream",
     "text": [
      "COUNTRY: Spain\n"
     ]
    },
    {
     "name": "stderr",
     "output_type": "stream",
     "text": [
      "100%|██████████| 30/30 [00:28<00:00,  1.06it/s]\n"
     ]
    },
    {
     "name": "stdout",
     "output_type": "stream",
     "text": [
      "COUNTRY: Romania\n"
     ]
    },
    {
     "name": "stderr",
     "output_type": "stream",
     "text": [
      "100%|██████████| 30/30 [00:38<00:00,  1.29s/it]\n"
     ]
    },
    {
     "name": "stdout",
     "output_type": "stream",
     "text": [
      "COUNTRY: Australia\n"
     ]
    },
    {
     "name": "stderr",
     "output_type": "stream",
     "text": [
      "100%|██████████| 30/30 [00:55<00:00,  1.86s/it]\n"
     ]
    },
    {
     "name": "stdout",
     "output_type": "stream",
     "text": [
      "COUNTRY: Hungary\n"
     ]
    },
    {
     "name": "stderr",
     "output_type": "stream",
     "text": [
      "100%|██████████| 30/30 [00:56<00:00,  1.89s/it]\n"
     ]
    },
    {
     "name": "stdout",
     "output_type": "stream",
     "text": [
      "COUNTRY: Czechia\n"
     ]
    },
    {
     "name": "stderr",
     "output_type": "stream",
     "text": [
      " 97%|█████████▋| 29/30 [01:03<00:09,  9.73s/it]"
     ]
    },
    {
     "name": "stdout",
     "output_type": "stream",
     "text": [
      "app 28: App not found. Status code 504 returned.\n"
     ]
    },
    {
     "name": "stderr",
     "output_type": "stream",
     "text": [
      "100%|██████████| 30/30 [01:04<00:00,  2.13s/it]\n"
     ]
    },
    {
     "name": "stdout",
     "output_type": "stream",
     "text": [
      "COUNTRY: South Africa\n"
     ]
    },
    {
     "name": "stderr",
     "output_type": "stream",
     "text": [
      "100%|██████████| 11/11 [00:10<00:00,  1.04it/s]\n"
     ]
    },
    {
     "name": "stdout",
     "output_type": "stream",
     "text": [
      "COUNTRY: Germany\n"
     ]
    },
    {
     "name": "stderr",
     "output_type": "stream",
     "text": [
      " 87%|████████▋ | 26/30 [01:09<00:38,  9.68s/it]"
     ]
    },
    {
     "name": "stdout",
     "output_type": "stream",
     "text": [
      "app 25: App not found. Status code 504 returned.\n"
     ]
    },
    {
     "name": "stderr",
     "output_type": "stream",
     "text": [
      "100%|██████████| 30/30 [01:13<00:00,  2.45s/it]\n"
     ]
    },
    {
     "name": "stdout",
     "output_type": "stream",
     "text": [
      "COUNTRY: Ethiopia\n"
     ]
    },
    {
     "name": "stderr",
     "output_type": "stream",
     "text": [
      "100%|██████████| 30/30 [00:51<00:00,  1.70s/it]\n"
     ]
    },
    {
     "name": "stdout",
     "output_type": "stream",
     "text": [
      "COUNTRY: Canada\n"
     ]
    },
    {
     "name": "stderr",
     "output_type": "stream",
     "text": [
      " 83%|████████▎ | 25/30 [00:49<00:48,  9.65s/it]"
     ]
    },
    {
     "name": "stdout",
     "output_type": "stream",
     "text": [
      "app 24: App not found. Status code 504 returned.\n"
     ]
    },
    {
     "name": "stderr",
     "output_type": "stream",
     "text": [
      "100%|██████████| 30/30 [00:54<00:00,  1.81s/it]\n"
     ]
    }
   ],
   "source": [
    "# For each of our shortlisted countries ...\n",
    "start_country = 0\n",
    "for i in range(start_country, len(country_names)):\n",
    "    data = []\n",
    "    country = country_names[i]\n",
    "    print(f\"COUNTRY: {country}\")\n",
    "    # Try to get information about some dog play-date apps.\n",
    "    country_code = pycountry.countries.get(name=country).alpha_2.lower()\n",
    "    language_code = languages['english']\n",
    "    app_ids = [a['appId'] for a in search(search_str, lang=language_code, country=country_code, n_hits=n_apps)]\n",
    "    # For each app ...\n",
    "    for j in tqdm(range(len(app_ids))):\n",
    "        try:\n",
    "            app_id = app_ids[j]\n",
    "            # Get details regarding the app.\n",
    "            app_details = app(app_id, lang=language_code, country=country_code)\n",
    "            # Add potentially useful new data fields.\n",
    "            app_details['searchMoment'] = str(datetime.datetime.now())\n",
    "            app_details['countryCode'] = country_code\n",
    "            app_details['languageCode'] = language_code\n",
    "            # Remove less useful data fields.\n",
    "            del app_details['icon']\n",
    "            del app_details['headerImage']\n",
    "            del app_details['screenshots']\n",
    "            del app_details['video']\n",
    "            del app_details['videoImage']\n",
    "            del app_details['descriptionHTML']\n",
    "            # Add app to data.\n",
    "            data.append(app_details)\n",
    "        except Exception as e: \n",
    "            print(f\"app {j}:\", e)\n",
    "    df = pd.DataFrame(data)\n",
    "    df.to_csv(f\"./Data/{'_'.join(country.lower().split())}.csv\", index=False)"
   ]
  },
  {
   "cell_type": "code",
   "execution_count": 75,
   "metadata": {},
   "outputs": [],
   "source": [
    "country_data_files = glob(\"./Data/*.csv\")\n",
    "\n",
    "df = pd.concat([pd.read_csv(f) for f in country_data_files])\n",
    "\n",
    "df = df.reset_index(drop=True)\n",
    "\n",
    "df = pd.concat([\n",
    "    pd.DataFrame(list(df['histogram'].apply(\n",
    "        lambda r: [int(re.sub(r'[\\[\\]]', r'', s.strip())) for s in r.split(',')]\n",
    "    )), columns=['ratings1', 'ratings2', 'ratings3', 'ratings4', 'ratings5']),\n",
    "    df.drop(['histogram', 'ratings'], axis=1)\n",
    "], axis=1)\n",
    "\n",
    "df['categories'] = df['categories'].apply(\n",
    "    lambda r: ' '.join(set([c['name'].lower().replace(' ', '-') for c in eval(r)]))\n",
    ")\n",
    "\n",
    "df['comments'] = df['comments'].apply(lambda r: ' '.join(eval(r)).lower())\n",
    "\n",
    "df.to_csv(\"./Data/all_countries.csv\", index=False)"
   ]
  },
  {
   "attachments": {},
   "cell_type": "markdown",
   "metadata": {},
   "source": [
    "Each app details request returns data with following fields.\n",
    "* `title`: Brief title.\n",
    "* `description`: Description in plain text.\n",
    "* `descriptionHTML`: Description in HTML format.\n",
    "* `summary`: Summary of what the app is about.\n",
    "* `installs`: No. of installs display string.\n",
    "* `minInstalls`: At least these many installs.\n",
    "* `realInstalls`: Exactly these many installs.\n",
    "* `score`: Average user rating out of 5. ???\n",
    "* `ratings`: No. of ratings.\n",
    "* `reviews`: No. of reviews.\n",
    "* `histogram`: List corresponding to no. of 1, 2, 3, 4 and 5 ratings respectively.\n",
    "* `price`: Price of install.\n",
    "* `free`: Whether or not this app is free to install.\n",
    "* `currency`: Currency that the price is expressed in.\n",
    "* `sale`: Whether or not this app is for sale. ???\n",
    "* `saleTime`: ???\n",
    "* `originalPrice`: ???\n",
    "* `saleText`: ???\n",
    "* `offersIAP`: Whether or not this app offers in app purchases.\n",
    "* `inAppProductPrice`: String indicating prizes of purchasable items in the app.\n",
    "* `developer`: Developer of the app.\n",
    "* `developerId`: Identification string corresponding to app developer.\n",
    "* `developerEmail`: Email corresponding to app developer.\n",
    "* `developerWebsite`: Website corresponding to app developer.\n",
    "* `developerAddress`: Address corresponding to app developer.\n",
    "* `privacyPolicy`: Link to the privacy policy of this app.\n",
    "* `genre`: A string trying to encompass the main category that this app may be put into.\n",
    "* `genreId`: Identifier string trying to encompass the main category that this app may be put into.\n",
    "* `categories`: List of {'name', 'id'} objects corresponding to categories that this app may be put into.\n",
    "* `icon`: Link to app icon image.\n",
    "* `headerImage`: Link to app header image that shows up as part of a search result.\n",
    "* `screenshots`: List of links to screenshots of the app.\n",
    "* `video`: A video associated with this app.\n",
    "* `videoImage`: Link to a thumbnail image of above video.\n",
    "* `contentRating`: Category of people allowed to rate this app. ???.\n",
    "* `contentRatingDescription`: Genre under which people date this app. ???.\n",
    "* `adSupported`: Whether or not this app supports ads.\n",
    "* `containsAds`: Whether or not this app contains ads.\n",
    "* `released`: String corresponding to date of release of this app.\n",
    "* `updated`: No. of times this app was updated. ???\n",
    "* `version`: Current version string.\n",
    "* `comments`: List of some comments.\n",
    "* `appId`: App identifier string.\n",
    "* `url`: Link to this app on Google Play Store."
   ]
  },
  {
   "attachments": {},
   "cell_type": "markdown",
   "metadata": {},
   "source": [
    "Following potentially useful data fields were added to details of each app.\n",
    "* `searchMoment`: Date time string marking date-time at which app details were fetched.\n",
    "* `countryCode`: ISO code of source country.\n",
    "* `languageCode`: Code corresponding to primary language of the app."
   ]
  },
  {
   "attachments": {},
   "cell_type": "markdown",
   "metadata": {},
   "source": [
    "Following less useful data fields were removed from details of each app.\n",
    "* `video`: Not looking to work with videos.\n",
    "* `videoImage`: Not looking to work with videos.\n",
    "* `descriptionHTML`: Redundant since another field with same description as plain text already exists."
   ]
  },
  {
   "cell_type": "code",
   "execution_count": 76,
   "metadata": {},
   "outputs": [],
   "source": [
    "df = pd.read_csv(\"./Data/all_countries.csv\")"
   ]
  },
  {
   "cell_type": "code",
   "execution_count": 77,
   "metadata": {},
   "outputs": [
    {
     "data": {
      "text/html": [
       "<div>\n",
       "<style scoped>\n",
       "    .dataframe tbody tr th:only-of-type {\n",
       "        vertical-align: middle;\n",
       "    }\n",
       "\n",
       "    .dataframe tbody tr th {\n",
       "        vertical-align: top;\n",
       "    }\n",
       "\n",
       "    .dataframe thead th {\n",
       "        text-align: right;\n",
       "    }\n",
       "</style>\n",
       "<table border=\"1\" class=\"dataframe\">\n",
       "  <thead>\n",
       "    <tr style=\"text-align: right;\">\n",
       "      <th></th>\n",
       "      <th>ratings1</th>\n",
       "      <th>ratings2</th>\n",
       "      <th>ratings3</th>\n",
       "      <th>ratings4</th>\n",
       "      <th>ratings5</th>\n",
       "      <th>title</th>\n",
       "      <th>description</th>\n",
       "      <th>summary</th>\n",
       "      <th>installs</th>\n",
       "      <th>minInstalls</th>\n",
       "      <th>...</th>\n",
       "      <th>containsAds</th>\n",
       "      <th>released</th>\n",
       "      <th>updated</th>\n",
       "      <th>version</th>\n",
       "      <th>comments</th>\n",
       "      <th>appId</th>\n",
       "      <th>url</th>\n",
       "      <th>searchMoment</th>\n",
       "      <th>countryCode</th>\n",
       "      <th>languageCode</th>\n",
       "    </tr>\n",
       "  </thead>\n",
       "  <tbody>\n",
       "    <tr>\n",
       "      <th>0</th>\n",
       "      <td>0</td>\n",
       "      <td>0</td>\n",
       "      <td>0</td>\n",
       "      <td>0</td>\n",
       "      <td>0</td>\n",
       "      <td>DogDater</td>\n",
       "      <td>Few animals are as social as our dog friends, ...</td>\n",
       "      <td>The App for all dog lovers. Find dogs around t...</td>\n",
       "      <td>10,000+</td>\n",
       "      <td>10000.0</td>\n",
       "      <td>...</td>\n",
       "      <td>False</td>\n",
       "      <td>Sep 22, 2021</td>\n",
       "      <td>1.689945e+09</td>\n",
       "      <td>2.4.2</td>\n",
       "      <td>the only people that are popping up for me are...</td>\n",
       "      <td>com.dogdatr.app</td>\n",
       "      <td>https://play.google.com/store/apps/details?id=...</td>\n",
       "      <td>2023-08-23 13:28:24.696038</td>\n",
       "      <td>ar</td>\n",
       "      <td>en</td>\n",
       "    </tr>\n",
       "    <tr>\n",
       "      <th>1</th>\n",
       "      <td>0</td>\n",
       "      <td>0</td>\n",
       "      <td>0</td>\n",
       "      <td>0</td>\n",
       "      <td>0</td>\n",
       "      <td>Pawmates: The Dog Meetup App</td>\n",
       "      <td>Featured on 50+ news and media channels includ...</td>\n",
       "      <td>Match, chat, and meet dogs and their owners ne...</td>\n",
       "      <td>5,000+</td>\n",
       "      <td>5000.0</td>\n",
       "      <td>...</td>\n",
       "      <td>True</td>\n",
       "      <td>Jul 21, 2022</td>\n",
       "      <td>1.691885e+09</td>\n",
       "      <td>4.12</td>\n",
       "      <td>great app and presents well visually but alway...</td>\n",
       "      <td>com.colin.barkerchat</td>\n",
       "      <td>https://play.google.com/store/apps/details?id=...</td>\n",
       "      <td>2023-08-23 13:28:25.325660</td>\n",
       "      <td>ar</td>\n",
       "      <td>en</td>\n",
       "    </tr>\n",
       "    <tr>\n",
       "      <th>2</th>\n",
       "      <td>0</td>\n",
       "      <td>0</td>\n",
       "      <td>0</td>\n",
       "      <td>0</td>\n",
       "      <td>0</td>\n",
       "      <td>Fetchadate</td>\n",
       "      <td>FetchaDate is Where Pet Lovers Meet! The place...</td>\n",
       "      <td>FetchaDate is where single pet lovers meet and...</td>\n",
       "      <td>1,000+</td>\n",
       "      <td>1000.0</td>\n",
       "      <td>...</td>\n",
       "      <td>False</td>\n",
       "      <td>Nov 24, 2020</td>\n",
       "      <td>1.680784e+09</td>\n",
       "      <td>2.1.0</td>\n",
       "      <td>not enough users. i set my radius for around 3...</td>\n",
       "      <td>com.fetchadate</td>\n",
       "      <td>https://play.google.com/store/apps/details?id=...</td>\n",
       "      <td>2023-08-23 13:28:26.063477</td>\n",
       "      <td>ar</td>\n",
       "      <td>en</td>\n",
       "    </tr>\n",
       "    <tr>\n",
       "      <th>3</th>\n",
       "      <td>607</td>\n",
       "      <td>0</td>\n",
       "      <td>944</td>\n",
       "      <td>2092</td>\n",
       "      <td>12688</td>\n",
       "      <td>Old Friends Dog Game</td>\n",
       "      <td>Welcome to Old Friends Dog Game, where love ne...</td>\n",
       "      <td>Save cute dogs and help them enjoy life in thi...</td>\n",
       "      <td>1,000,000+</td>\n",
       "      <td>1000000.0</td>\n",
       "      <td>...</td>\n",
       "      <td>True</td>\n",
       "      <td>Aug 8, 2021</td>\n",
       "      <td>1.687988e+09</td>\n",
       "      <td>1.20.03</td>\n",
       "      <td>absolutely loving the game so far! i'm relieve...</td>\n",
       "      <td>com.runawayplay.OldFriends</td>\n",
       "      <td>https://play.google.com/store/apps/details?id=...</td>\n",
       "      <td>2023-08-23 13:28:26.755346</td>\n",
       "      <td>ar</td>\n",
       "      <td>en</td>\n",
       "    </tr>\n",
       "    <tr>\n",
       "      <th>4</th>\n",
       "      <td>0</td>\n",
       "      <td>0</td>\n",
       "      <td>0</td>\n",
       "      <td>0</td>\n",
       "      <td>0</td>\n",
       "      <td>Dog Hotel Tycoon</td>\n",
       "      <td>Become a dog hotel tycoon, and create a world ...</td>\n",
       "      <td>Become a dog hotel tycoon, and create a world ...</td>\n",
       "      <td>1,000,000+</td>\n",
       "      <td>1000000.0</td>\n",
       "      <td>...</td>\n",
       "      <td>True</td>\n",
       "      <td>NaN</td>\n",
       "      <td>1.664449e+09</td>\n",
       "      <td>NaN</td>\n",
       "      <td>NaN</td>\n",
       "      <td>com.idle.dog.hotel.tycoon</td>\n",
       "      <td>https://play.google.com/store/apps/details?id=...</td>\n",
       "      <td>2023-08-23 13:28:27.419246</td>\n",
       "      <td>ar</td>\n",
       "      <td>en</td>\n",
       "    </tr>\n",
       "    <tr>\n",
       "      <th>...</th>\n",
       "      <td>...</td>\n",
       "      <td>...</td>\n",
       "      <td>...</td>\n",
       "      <td>...</td>\n",
       "      <td>...</td>\n",
       "      <td>...</td>\n",
       "      <td>...</td>\n",
       "      <td>...</td>\n",
       "      <td>...</td>\n",
       "      <td>...</td>\n",
       "      <td>...</td>\n",
       "      <td>...</td>\n",
       "      <td>...</td>\n",
       "      <td>...</td>\n",
       "      <td>...</td>\n",
       "      <td>...</td>\n",
       "      <td>...</td>\n",
       "      <td>...</td>\n",
       "      <td>...</td>\n",
       "      <td>...</td>\n",
       "      <td>...</td>\n",
       "    </tr>\n",
       "    <tr>\n",
       "      <th>1139</th>\n",
       "      <td>20166</td>\n",
       "      <td>1745</td>\n",
       "      <td>3440</td>\n",
       "      <td>10393</td>\n",
       "      <td>20771</td>\n",
       "      <td>eharmony dating &amp; real love</td>\n",
       "      <td>Are you ready to take dating to the next level...</td>\n",
       "      <td>Your dating app to match with quality singles ...</td>\n",
       "      <td>5,000,000+</td>\n",
       "      <td>5000000.0</td>\n",
       "      <td>...</td>\n",
       "      <td>False</td>\n",
       "      <td>Sep 27, 2010</td>\n",
       "      <td>1.692016e+09</td>\n",
       "      <td>10.12.0</td>\n",
       "      <td>it will have you go through a lengthy sign up,...</td>\n",
       "      <td>com.eharmony</td>\n",
       "      <td>https://play.google.com/store/apps/details?id=...</td>\n",
       "      <td>2023-08-23 13:21:01.928813</td>\n",
       "      <td>us</td>\n",
       "      <td>en</td>\n",
       "    </tr>\n",
       "    <tr>\n",
       "      <th>1140</th>\n",
       "      <td>833</td>\n",
       "      <td>138</td>\n",
       "      <td>694</td>\n",
       "      <td>1389</td>\n",
       "      <td>14961</td>\n",
       "      <td>It's a Dog's Love: Romance you</td>\n",
       "      <td>❏Synopsis❏\\r\\n\\r\\nYou expect your new job at H...</td>\n",
       "      <td>Experience a heartwarming romance with woman's...</td>\n",
       "      <td>500,000+</td>\n",
       "      <td>500000.0</td>\n",
       "      <td>...</td>\n",
       "      <td>True</td>\n",
       "      <td>Jun 14, 2020</td>\n",
       "      <td>1.623339e+09</td>\n",
       "      <td>2.1.10</td>\n",
       "      <td>i've played a dang good amount of these storie...</td>\n",
       "      <td>com.genius.dogboy</td>\n",
       "      <td>https://play.google.com/store/apps/details?id=...</td>\n",
       "      <td>2023-08-23 13:21:02.637253</td>\n",
       "      <td>us</td>\n",
       "      <td>en</td>\n",
       "    </tr>\n",
       "    <tr>\n",
       "      <th>1141</th>\n",
       "      <td>4826</td>\n",
       "      <td>1522</td>\n",
       "      <td>3714</td>\n",
       "      <td>7391</td>\n",
       "      <td>33948</td>\n",
       "      <td>Dog Scanner: Breed Recognition</td>\n",
       "      <td>The Dog Scanner app will identify your dog's b...</td>\n",
       "      <td>See a dog, but don't know its breed? Just take...</td>\n",
       "      <td>5,000,000+</td>\n",
       "      <td>5000000.0</td>\n",
       "      <td>...</td>\n",
       "      <td>True</td>\n",
       "      <td>Jul 2, 2017</td>\n",
       "      <td>1.672913e+09</td>\n",
       "      <td>12.8.15-G</td>\n",
       "      <td>to say the ads are intrusive is an understatem...</td>\n",
       "      <td>com.siwalusoftware.dogscanner</td>\n",
       "      <td>https://play.google.com/store/apps/details?id=...</td>\n",
       "      <td>2023-08-23 13:21:03.287560</td>\n",
       "      <td>us</td>\n",
       "      <td>en</td>\n",
       "    </tr>\n",
       "    <tr>\n",
       "      <th>1142</th>\n",
       "      <td>1709</td>\n",
       "      <td>420</td>\n",
       "      <td>973</td>\n",
       "      <td>1657</td>\n",
       "      <td>22222</td>\n",
       "      <td>Wild: Hook up, Meet, Dating Me</td>\n",
       "      <td>WILD - The Fast-growing Hookup App for Adult S...</td>\n",
       "      <td>The Online Dating &amp; Hook up App for Local Sing...</td>\n",
       "      <td>1,000,000+</td>\n",
       "      <td>1000000.0</td>\n",
       "      <td>...</td>\n",
       "      <td>False</td>\n",
       "      <td>Oct 22, 2017</td>\n",
       "      <td>1.692072e+09</td>\n",
       "      <td>2.8.5</td>\n",
       "      <td>overall impressions is that at this stage, the...</td>\n",
       "      <td>com.free.hookup.dating.apps.wild</td>\n",
       "      <td>https://play.google.com/store/apps/details?id=...</td>\n",
       "      <td>2023-08-23 13:21:03.924127</td>\n",
       "      <td>us</td>\n",
       "      <td>en</td>\n",
       "    </tr>\n",
       "    <tr>\n",
       "      <th>1143</th>\n",
       "      <td>385</td>\n",
       "      <td>192</td>\n",
       "      <td>337</td>\n",
       "      <td>481</td>\n",
       "      <td>3419</td>\n",
       "      <td>Dog whistle &amp; training app</td>\n",
       "      <td>EveryDoggy: all-in-one puppy &amp; dog training ap...</td>\n",
       "      <td>Puppy training app with dog clicker and whistl...</td>\n",
       "      <td>500,000+</td>\n",
       "      <td>500000.0</td>\n",
       "      <td>...</td>\n",
       "      <td>False</td>\n",
       "      <td>Aug 2, 2020</td>\n",
       "      <td>1.672239e+09</td>\n",
       "      <td>1.71.0</td>\n",
       "      <td>misleading. it's one of those annoying apps th...</td>\n",
       "      <td>com.everydoggy.android</td>\n",
       "      <td>https://play.google.com/store/apps/details?id=...</td>\n",
       "      <td>2023-08-23 13:21:04.490530</td>\n",
       "      <td>us</td>\n",
       "      <td>en</td>\n",
       "    </tr>\n",
       "  </tbody>\n",
       "</table>\n",
       "<p>1144 rows × 44 columns</p>\n",
       "</div>"
      ],
      "text/plain": [
       "      ratings1  ratings2  ratings3  ratings4  ratings5  \\\n",
       "0            0         0         0         0         0   \n",
       "1            0         0         0         0         0   \n",
       "2            0         0         0         0         0   \n",
       "3          607         0       944      2092     12688   \n",
       "4            0         0         0         0         0   \n",
       "...        ...       ...       ...       ...       ...   \n",
       "1139     20166      1745      3440     10393     20771   \n",
       "1140       833       138       694      1389     14961   \n",
       "1141      4826      1522      3714      7391     33948   \n",
       "1142      1709       420       973      1657     22222   \n",
       "1143       385       192       337       481      3419   \n",
       "\n",
       "                               title  \\\n",
       "0                           DogDater   \n",
       "1       Pawmates: The Dog Meetup App   \n",
       "2                         Fetchadate   \n",
       "3               Old Friends Dog Game   \n",
       "4                   Dog Hotel Tycoon   \n",
       "...                              ...   \n",
       "1139     eharmony dating & real love   \n",
       "1140  It's a Dog's Love: Romance you   \n",
       "1141  Dog Scanner: Breed Recognition   \n",
       "1142  Wild: Hook up, Meet, Dating Me   \n",
       "1143      Dog whistle & training app   \n",
       "\n",
       "                                            description  \\\n",
       "0     Few animals are as social as our dog friends, ...   \n",
       "1     Featured on 50+ news and media channels includ...   \n",
       "2     FetchaDate is Where Pet Lovers Meet! The place...   \n",
       "3     Welcome to Old Friends Dog Game, where love ne...   \n",
       "4     Become a dog hotel tycoon, and create a world ...   \n",
       "...                                                 ...   \n",
       "1139  Are you ready to take dating to the next level...   \n",
       "1140  ❏Synopsis❏\\r\\n\\r\\nYou expect your new job at H...   \n",
       "1141  The Dog Scanner app will identify your dog's b...   \n",
       "1142  WILD - The Fast-growing Hookup App for Adult S...   \n",
       "1143  EveryDoggy: all-in-one puppy & dog training ap...   \n",
       "\n",
       "                                                summary    installs  \\\n",
       "0     The App for all dog lovers. Find dogs around t...     10,000+   \n",
       "1     Match, chat, and meet dogs and their owners ne...      5,000+   \n",
       "2     FetchaDate is where single pet lovers meet and...      1,000+   \n",
       "3     Save cute dogs and help them enjoy life in thi...  1,000,000+   \n",
       "4     Become a dog hotel tycoon, and create a world ...  1,000,000+   \n",
       "...                                                 ...         ...   \n",
       "1139  Your dating app to match with quality singles ...  5,000,000+   \n",
       "1140  Experience a heartwarming romance with woman's...    500,000+   \n",
       "1141  See a dog, but don't know its breed? Just take...  5,000,000+   \n",
       "1142  The Online Dating & Hook up App for Local Sing...  1,000,000+   \n",
       "1143  Puppy training app with dog clicker and whistl...    500,000+   \n",
       "\n",
       "      minInstalls  ...  containsAds      released       updated    version  \\\n",
       "0         10000.0  ...        False  Sep 22, 2021  1.689945e+09      2.4.2   \n",
       "1          5000.0  ...         True  Jul 21, 2022  1.691885e+09       4.12   \n",
       "2          1000.0  ...        False  Nov 24, 2020  1.680784e+09      2.1.0   \n",
       "3       1000000.0  ...         True   Aug 8, 2021  1.687988e+09    1.20.03   \n",
       "4       1000000.0  ...         True           NaN  1.664449e+09        NaN   \n",
       "...           ...  ...          ...           ...           ...        ...   \n",
       "1139    5000000.0  ...        False  Sep 27, 2010  1.692016e+09    10.12.0   \n",
       "1140     500000.0  ...         True  Jun 14, 2020  1.623339e+09     2.1.10   \n",
       "1141    5000000.0  ...         True   Jul 2, 2017  1.672913e+09  12.8.15-G   \n",
       "1142    1000000.0  ...        False  Oct 22, 2017  1.692072e+09      2.8.5   \n",
       "1143     500000.0  ...        False   Aug 2, 2020  1.672239e+09     1.71.0   \n",
       "\n",
       "                                               comments  \\\n",
       "0     the only people that are popping up for me are...   \n",
       "1     great app and presents well visually but alway...   \n",
       "2     not enough users. i set my radius for around 3...   \n",
       "3     absolutely loving the game so far! i'm relieve...   \n",
       "4                                                   NaN   \n",
       "...                                                 ...   \n",
       "1139  it will have you go through a lengthy sign up,...   \n",
       "1140  i've played a dang good amount of these storie...   \n",
       "1141  to say the ads are intrusive is an understatem...   \n",
       "1142  overall impressions is that at this stage, the...   \n",
       "1143  misleading. it's one of those annoying apps th...   \n",
       "\n",
       "                                 appId  \\\n",
       "0                      com.dogdatr.app   \n",
       "1                 com.colin.barkerchat   \n",
       "2                       com.fetchadate   \n",
       "3           com.runawayplay.OldFriends   \n",
       "4            com.idle.dog.hotel.tycoon   \n",
       "...                                ...   \n",
       "1139                      com.eharmony   \n",
       "1140                 com.genius.dogboy   \n",
       "1141     com.siwalusoftware.dogscanner   \n",
       "1142  com.free.hookup.dating.apps.wild   \n",
       "1143            com.everydoggy.android   \n",
       "\n",
       "                                                    url  \\\n",
       "0     https://play.google.com/store/apps/details?id=...   \n",
       "1     https://play.google.com/store/apps/details?id=...   \n",
       "2     https://play.google.com/store/apps/details?id=...   \n",
       "3     https://play.google.com/store/apps/details?id=...   \n",
       "4     https://play.google.com/store/apps/details?id=...   \n",
       "...                                                 ...   \n",
       "1139  https://play.google.com/store/apps/details?id=...   \n",
       "1140  https://play.google.com/store/apps/details?id=...   \n",
       "1141  https://play.google.com/store/apps/details?id=...   \n",
       "1142  https://play.google.com/store/apps/details?id=...   \n",
       "1143  https://play.google.com/store/apps/details?id=...   \n",
       "\n",
       "                    searchMoment  countryCode  languageCode  \n",
       "0     2023-08-23 13:28:24.696038           ar            en  \n",
       "1     2023-08-23 13:28:25.325660           ar            en  \n",
       "2     2023-08-23 13:28:26.063477           ar            en  \n",
       "3     2023-08-23 13:28:26.755346           ar            en  \n",
       "4     2023-08-23 13:28:27.419246           ar            en  \n",
       "...                          ...          ...           ...  \n",
       "1139  2023-08-23 13:21:01.928813           us            en  \n",
       "1140  2023-08-23 13:21:02.637253           us            en  \n",
       "1141  2023-08-23 13:21:03.287560           us            en  \n",
       "1142  2023-08-23 13:21:03.924127           us            en  \n",
       "1143  2023-08-23 13:21:04.490530           us            en  \n",
       "\n",
       "[1144 rows x 44 columns]"
      ]
     },
     "execution_count": 77,
     "metadata": {},
     "output_type": "execute_result"
    }
   ],
   "source": [
    "df"
   ]
  },
  {
   "cell_type": "code",
   "execution_count": 78,
   "metadata": {},
   "outputs": [
    {
     "data": {
      "text/plain": [
       "Index(['ratings1', 'ratings2', 'ratings3', 'ratings4', 'ratings5', 'title',\n",
       "       'description', 'summary', 'installs', 'minInstalls', 'realInstalls',\n",
       "       'score', 'reviews', 'price', 'free', 'currency', 'sale', 'saleTime',\n",
       "       'originalPrice', 'saleText', 'offersIAP', 'inAppProductPrice',\n",
       "       'developer', 'developerId', 'developerEmail', 'developerWebsite',\n",
       "       'developerAddress', 'privacyPolicy', 'genre', 'genreId', 'categories',\n",
       "       'contentRating', 'contentRatingDescription', 'adSupported',\n",
       "       'containsAds', 'released', 'updated', 'version', 'comments', 'appId',\n",
       "       'url', 'searchMoment', 'countryCode', 'languageCode'],\n",
       "      dtype='object')"
      ]
     },
     "execution_count": 78,
     "metadata": {},
     "output_type": "execute_result"
    }
   ],
   "source": [
    "df.columns"
   ]
  },
  {
   "cell_type": "code",
   "execution_count": 79,
   "metadata": {},
   "outputs": [
    {
     "data": {
      "text/plain": [
       "genre\n",
       "Lifestyle            262\n",
       "Simulation           232\n",
       "Dating               216\n",
       "Casual               136\n",
       "Education             88\n",
       "Social                78\n",
       "Communication         40\n",
       "Role Playing          30\n",
       "Puzzle                12\n",
       "Medical               10\n",
       "Travel & Local         8\n",
       "Trivia                 6\n",
       "Entertainment          4\n",
       "Tools                  4\n",
       "Strategy               4\n",
       "Books & Reference      2\n",
       "Business               2\n",
       "Shopping               2\n",
       "Educational            2\n",
       "Health & Fitness       2\n",
       "Name: count, dtype: int64"
      ]
     },
     "execution_count": 79,
     "metadata": {},
     "output_type": "execute_result"
    }
   ],
   "source": [
    "df['genre'].value_counts()"
   ]
  },
  {
   "attachments": {},
   "cell_type": "markdown",
   "metadata": {},
   "source": [
    "## 2. Data Storage\n",
    "Storage shall be managed in the cloud using following services offered by `AWS`.\n",
    "1. `DynamoDB`: Transactional NoSQL database.\n",
    "2. `RedShift`: Analytical database. \n",
    "3. `AWS Data Pipeline`: For data transfer between DynamoDB and RedShift."
   ]
  }
 ],
 "metadata": {
  "kernelspec": {
   "display_name": "dissertation-tcd",
   "language": "python",
   "name": "python3"
  },
  "language_info": {
   "codemirror_mode": {
    "name": "ipython",
    "version": 3
   },
   "file_extension": ".py",
   "mimetype": "text/x-python",
   "name": "python",
   "nbconvert_exporter": "python",
   "pygments_lexer": "ipython3",
   "version": "3.11.3"
  },
  "orig_nbformat": 4
 },
 "nbformat": 4,
 "nbformat_minor": 2
}
